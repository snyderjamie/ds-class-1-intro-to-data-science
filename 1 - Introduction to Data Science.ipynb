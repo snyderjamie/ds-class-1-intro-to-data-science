{
 "cells": [
  {
   "cell_type": "markdown",
   "metadata": {},
   "source": [
    "![rmotr](https://i.imgur.com/jiPp4hj.png)\n",
    "<hr style=\"margin-bottom: 40px;\">\n",
    "\n",
    "<img src=\"https://user-images.githubusercontent.com/7065401/39118201-1d71c8a2-46e9-11e8-8546-256f5a655290.jpg\"\n",
    "    style=\"width:300px; float: right; margin: 0 40px 40px 40px;\"></img>\n",
    "   \n",
    "# Intro to Data Science\n",
    "\n",
    "What is _Data Science_? The only thing we know for sure is that, _Data Science_ is a broad term. It depends on the organization/company, the people involved, etc. This is an good representation:"
   ]
  },
  {
   "cell_type": "markdown",
   "metadata": {},
   "source": [
    "![DS](https://static1.squarespace.com/static/5150aec6e4b0e340ec52710a/t/51525c33e4b0b3e0d10f77ab/1364352052403/Data_Science_VD.png)\n",
    "<p style='text-align:center'>_([source](http://drewconway.com/zia/2013/3/26/the-data-science-venn-diagram))_</p>\n",
    "\n",
    "Although, this one might be a little bit more accurate:\n",
    "\n",
    "![Data Science. What they think...](img/ds-what-they-think.png)\n",
    "\n",
    "As a \"Data Scientist\" you'll be combining your domain knowledge \"science\", with large amounts of data, using programming and computers. Your tasks as Data Scientists will involve, highly technical tasks like Machine Learning to boring and repetitive operative tasks like scraping a website from data and importing it in a Database.\n",
    "\n",
    "### What does a Data Scientist do?\n",
    "\n",
    "It's probably easier to define the tasks that are most common to Data Scientists that to give a general definition that applies to everybody.\n",
    "\n",
    "![Data Science tasks](https://cacm.acm.org/system/assets/0001/3678/rp-overview.jpg)\n",
    "\n",
    "<p style='text-align:center'>_([Source from recommended article](https://cacm.acm.org/blogs/blog-cacm/169199-data-science-workflow-overview-and-challenges/fulltext))_</p>\n",
    "\n",
    "![separator1](https://i.imgur.com/ZUWYTii.png)\n",
    "\n",
    "`# having a question`\n",
    "\n",
    "**Getting the data**\n",
    "\n",
    "Depending on your company/organization, getting the data can be as simple as a SQL query or as difficult as scraping entire websites. The problem with this task is that it's not standardized.\n",
    "\n",
    "**Parsing and Cleaning the Data**\n",
    "\n",
    "Depending on your sources, you'll need to do a little bit of preparation. Excluding outliers, filling null values, translating values, etc.\n",
    "\n",
    "**Merging, combining data**\n",
    "\n",
    "If the data comes from different sources, merging it can be tedious. Specially if it's hard to define that piece of information that relates different data sources.\n",
    "\n",
    "**Doing the analysis**\n",
    "\n",
    "This involves your own domain expertise + the tools available for the job. For example, you need to know the principles of statistics and you can also use [`statsmodels`](https://www.statsmodels.org) to simplify your job. The analysis part is usually iterative and involves other subtasks as visualizations, validation testing, etc.\n",
    "\n",
    "**Building models**\n",
    "\n",
    "The whole point of the analysis part is finding patterns in particular cases to build general models. Your models can be predictions, clusterings, or just automated reports. In a general sense, it's the result of all the previous phases.\n",
    "\n",
    "**Deploying it**\n",
    "\n",
    "Perfect analyses and models are useless if they're not repeatable and scalable. This phase depends on your own models, but it'll usually imply a cloud provider. From simple reports (emailed every day at 3AM from an AWS Lambda) to a Machine Learning Model (built on top of Tensor Flow and deployed on Google's cloud infrastructure)."
   ]
  },
  {
   "cell_type": "markdown",
   "metadata": {},
   "source": [
    "![separator1](https://i.imgur.com/ZUWYTii.png)\n",
    "\n",
    "### The only thing that's certain\n",
    "\n",
    "We're sorry we can't give you better answers to the question \"What is Data Science?\", but this is a new discipline and we're putting together definitions, scopes and responsibilities of different actors. But there's one thing that's certain: **You need to know how to code...**\n",
    "\n",
    "![image](https://user-images.githubusercontent.com/872296/38268832-6af6d610-3755-11e8-9d2f-733134ef1418.png)\n",
    "<p style='text-align:center'>([source](https://twitter.com/josh_wills/status/198093512149958656?lang=en))</p>"
   ]
  },
  {
   "cell_type": "markdown",
   "metadata": {},
   "source": [
    "![separator2](https://i.imgur.com/4gX5WFr.png)"
   ]
  }
 ],
 "metadata": {
  "kernelspec": {
   "display_name": "Python 3",
   "language": "python",
   "name": "python3"
  },
  "language_info": {
   "codemirror_mode": {
    "name": "ipython",
    "version": 3
   },
   "file_extension": ".py",
   "mimetype": "text/x-python",
   "name": "python",
   "nbconvert_exporter": "python",
   "pygments_lexer": "ipython3",
   "version": "3.6.8"
  }
 },
 "nbformat": 4,
 "nbformat_minor": 2
}
